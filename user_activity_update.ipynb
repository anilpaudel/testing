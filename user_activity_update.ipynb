{
 "cells": [
  {
   "cell_type": "code",
   "execution_count": 1,
   "metadata": {},
   "outputs": [],
   "source": [
    "import pymongo\n",
    "import time"
   ]
  },
  {
   "cell_type": "code",
   "execution_count": 2,
   "metadata": {},
   "outputs": [],
   "source": [
    "def get_clicks_rating(n):\n",
    "    return 5*(1-0.5**n)"
   ]
  },
  {
   "cell_type": "code",
   "execution_count": 3,
   "metadata": {},
   "outputs": [],
   "source": [
    "def get_review_rating(in_text):\n",
    "    return 3"
   ]
  },
  {
   "cell_type": "code",
   "execution_count": 40,
   "metadata": {},
   "outputs": [],
   "source": [
    "def get_net_rating(review_rating,rating,clicks_rating):\n",
    "    weight=0\n",
    "    weighted_rating=0\n",
    "    if review_rating!=0:\n",
    "        weight=weight+1\n",
    "        weighted_rating=weighted_rating+review_rating\n",
    "    if rating!=0:\n",
    "        weight=weight+0.75\n",
    "        weighted_rating=weighted_rating+rating*0.75\n",
    "    if clicks_rating!=0:\n",
    "        weight=weight+0.25\n",
    "        weighted_rating=weighted_rating+clicks_rating*0.25\n",
    "    return weighted_rating/weight\n",
    "    \n",
    "    \n",
    "    \n",
    "   \n"
   ]
  },
  {
   "cell_type": "code",
   "execution_count": 113,
   "metadata": {},
   "outputs": [
    {
     "name": "stdout",
     "output_type": "stream",
     "text": [
      "3.4285714285714284\n"
     ]
    }
   ],
   "source": [
    "print(get_net_rating(3,4,0))"
   ]
  },
  {
   "cell_type": "code",
   "execution_count": 7,
   "metadata": {},
   "outputs": [],
   "source": [
    "# get_clicks_rating()"
   ]
  },
  {
   "cell_type": "code",
   "execution_count": null,
   "metadata": {},
   "outputs": [],
   "source": []
  },
  {
   "cell_type": "code",
   "execution_count": 8,
   "metadata": {},
   "outputs": [],
   "source": [
    "myclient = pymongo.MongoClient(\"mongodb://localhost:27017/\")\n",
    "mydb = myclient[\"majorProject\"]\n",
    "mycol = mydb[\"userActivity\"]\n"
   ]
  },
  {
   "cell_type": "code",
   "execution_count": 9,
   "metadata": {},
   "outputs": [],
   "source": []
  },
  {
   "cell_type": "code",
   "execution_count": 126,
   "metadata": {},
   "outputs": [
    {
     "name": "stdout",
     "output_type": "stream",
     "text": [
      "{'review': 'its cool', 'review_rating': 3, 'net_rating': 3, 'date_modified': datetime.datetime(2019, 6, 13, 8, 15, 21, 73000)}\n",
      "review rating:3\n",
      "rating:0\n",
      "clicks rating:0\n",
      "net rating is :3.0\n",
      "new date:2019-06-13 08:33:41.954575\n",
      "net0\n"
     ]
    },
    {
     "name": "stderr",
     "output_type": "stream",
     "text": [
      "/home/anil/venv/lib/python3.7/site-packages/ipykernel_launcher.py:6: DeprecationWarning: count is deprecated. Use Collection.count_documents instead.\n",
      "  \n",
      "/home/anil/venv/lib/python3.7/site-packages/ipykernel_launcher.py:34: DeprecationWarning: update is deprecated. Use replace_one, update_one or update_many instead.\n"
     ]
    }
   ],
   "source": [
    "user_id=\"278859\"\n",
    "book_id=\"0195153449\"\n",
    "new_review=\"its cool\"\n",
    "new_review_rating=get_review_rating(new_review)\n",
    "\n",
    "x=mycol.find({\"user_id\":user_id,\"activity.book_id\":book_id},{\"activity.$.activity\":1,\"_id\":0})\n",
    "if x.count()==0:\n",
    "    y=mycol.find({\"user_id\":user_id},{\"activity.$.activity\":1,\"_id\":0})\n",
    "    if(y.count()==0):\n",
    "        mycol.insert({\"user_id\":user_id,\"isFifteen\":0,\"activity\":[{\"book_id\":book_id,\"activity\":{\"review\":new_review,\"review_rating\":new_review_rating,\"net_rating\":new_review_rating,\"date_modified\":datetime.datetime.now()}}]})\n",
    "    else:\n",
    "        mycol.update({\"user_id\":user_id},{\"$push\":{\"activity\":{\"book_id\":book_id,\"activity\":{\"review\":new_review,\"review_rating\":new_review_rating,\"net_rating\":new_review_rating,\"date_modified\":datetime.datetime.now()}}}})\n",
    "    \n",
    "else:\n",
    "    data=x[0]['activity'][0]['activity']\n",
    "    print(data)\n",
    "    try:\n",
    "        rating=float(data['rating'])\n",
    "    except:\n",
    "        rating=0\n",
    "    try:\n",
    "        clicks_rating=float(data['clicks_rating'])\n",
    "    except:\n",
    "        clicks_rating=0\n",
    "    \n",
    "    review_rating=get_review_rating(new_review)\n",
    "    net_rating=get_net_rating(review_rating,rating,clicks_rating)    \n",
    "    print(\"review rating:\"+str(review_rating))\n",
    "    print(\"rating:\"+str(rating))\n",
    "    print(\"clicks rating:\"+str(clicks_rating))\n",
    "    print(\"net rating is :\"+str(net_rating))\n",
    "    print(\"new date:\"+str(datetime.datetime.now()))\n",
    "    print(\"net\"+str(rating))\n",
    "    mycol.update({\"user_id\":user_id,\"activity.book_id\":book_id},{\"$set\":{\"activity.$.activity.review\":new_review,\"activity.$.activity.review_rating\":review_rating,\"activity.$.activity.net_rating\":net_rating,\"activity.$.activity.date_modified\":datetime.datetime.now()} },upsert=True)"
   ]
  },
  {
   "cell_type": "code",
   "execution_count": 124,
   "metadata": {},
   "outputs": [
    {
     "name": "stdout",
     "output_type": "stream",
     "text": [
      "{'review': 'its cool', 'review_rating': 3, 'net_rating': 3.275, 'date_modified': datetime.datetime(2019, 6, 13, 8, 30, 44, 592000), 'clicks': 3, 'clicks_rating': 4.375}\n",
      "clicks_rating is:4.375\n",
      "review rating is:3.0\n",
      "new rating is:4\n",
      "net3.546875\n",
      "new date:2019-06-13 08:31:34.154837\n"
     ]
    },
    {
     "name": "stderr",
     "output_type": "stream",
     "text": [
      "/home/anil/venv/lib/python3.7/site-packages/ipykernel_launcher.py:5: DeprecationWarning: count is deprecated. Use Collection.count_documents instead.\n",
      "  \"\"\"\n",
      "/home/anil/venv/lib/python3.7/site-packages/ipykernel_launcher.py:29: DeprecationWarning: update is deprecated. Use replace_one, update_one or update_many instead.\n"
     ]
    }
   ],
   "source": [
    "user_id=\"278863\"\n",
    "book_id=\"0195153452\"\n",
    "new_rating=4\n",
    "x=mycol.find({\"user_id\":user_id,\"activity.book_id\":book_id},{\"activity.$.activity\":1,\"_id\":0})\n",
    "if x.count()==0:\n",
    "    y=mycol.find({\"user_id\":user_id},{\"activity.$.activity\":1,\"_id\":0})\n",
    "    if(y.count()==0):\n",
    "        mycol.insert({\"user_id\":user_id,\"isFifteen\":0,\"activity\":[{\"book_id\":book_id,\"activity\":{\"rating\":new_rating,\"net_rating\":new_rating,\"date_modified\":datetime.datetime.now()}}]})\n",
    "    else:\n",
    "        mycol.update({\"user_id\":user_id},{\"$push\":{\"activity\":{\"book_id\":book_id,\"activity\":{\"rating\":new_rating,\"net_rating\":new_rating,\"date_modified\":datetime.datetime.now()}}}})\n",
    "    \n",
    "else:\n",
    "    data=x[0]['activity'][0]['activity']\n",
    "    print(data)\n",
    "    try:\n",
    "        clicks_rating=float(data['clicks_rating'])\n",
    "    except:\n",
    "        clicks_rating=0\n",
    "    try:\n",
    "        review_rating=float(data['review_rating'])\n",
    "    except:\n",
    "        review_rating=0\n",
    "    net_rating=get_net_rating(review_rating,new_rating,clicks_rating)\n",
    "    print(\"clicks_rating is:\"+str(clicks_rating))\n",
    "    print(\"review rating is:\"+str(review_rating))\n",
    "    print(\"new rating is:\"+str(new_rating))\n",
    "    print(\"net\"+str(net_rating))\n",
    "    print(\"new date:\"+str(datetime.datetime.now()))\n",
    "    mycol.update({\"user_id\":user_id,\"activity.book_id\":book_id},{\"$set\":{\"activity.$.activity.rating\":new_rating,\"activity.$.activity.net_rating\":net_rating,\"activity.$.activity.date_modified\":datetime.datetime.now()} },upsert=True)"
   ]
  },
  {
   "cell_type": "code",
   "execution_count": 123,
   "metadata": {},
   "outputs": [
    {
     "name": "stdout",
     "output_type": "stream",
     "text": [
      "{'review': 'its cool', 'review_rating': 3, 'net_rating': 3, 'date_modified': datetime.datetime(2019, 6, 13, 8, 30, 22, 260000)}\n",
      "net rating is :3.275\n",
      "new date:2019-06-13 08:30:44.592575\n",
      "clicks rating4.375\n"
     ]
    },
    {
     "name": "stderr",
     "output_type": "stream",
     "text": [
      "/home/anil/venv/lib/python3.7/site-packages/ipykernel_launcher.py:6: DeprecationWarning: count is deprecated. Use Collection.count_documents instead.\n",
      "  \n",
      "/home/anil/venv/lib/python3.7/site-packages/ipykernel_launcher.py:35: DeprecationWarning: update is deprecated. Use replace_one, update_one or update_many instead.\n"
     ]
    }
   ],
   "source": [
    "user_id=\"278863\"\n",
    "book_id=\"0195153452\"\n",
    "new_clicks=3\n",
    "new_clicks_rating=get_clicks_rating(new_clicks)\n",
    "x=mycol.find({\"user_id\":user_id,\"activity.book_id\":book_id},{\"activity.$.activity\":1,\"_id\":0})\n",
    "if x.count()==0:\n",
    "    y=mycol.find({\"user_id\":user_id},{\"activity.$.activity\":1,\"_id\":0})\n",
    "    if(y.count()==0):\n",
    "        mycol.insert({\"user_id\":user_id,\"is_fifteen\":0,\"activity\":[{\"book_id\":book_id,\"activity\":{\"clicks\":new_clicks,\"clicks_rating\":new_clicks_rating,\"net_rating\":new_clicks_rating,\"date_modified\":datetime.datetime.now()}}]})\n",
    "    else:\n",
    "        mycol.update({\"user_id\":user_id},{\"$push\":{\"activity\":{\"book_id\":book_id,\"activity\":{\"clicks\":new_clicks,\"clicks_rating\":new_clicks_rating,\"net_rating\":new_clicks_rating,\"date_modified\":datetime.datetime.now()}}}})\n",
    "    \n",
    "else:\n",
    "    data=x[0]['activity'][0]['activity']\n",
    "    print(data)\n",
    "    try:\n",
    "        rating=float(data['rating'])\n",
    "    except:\n",
    "        rating=0\n",
    "    try:\n",
    "        review_rating=float(data['review_rating'])\n",
    "    except:\n",
    "        review_rating=0\n",
    "    try:\n",
    "        clicks=int(data['clicks'])\n",
    "    except:\n",
    "        clicks=0\n",
    "    total_clicks=new_clicks+clicks\n",
    "    clicks_rating=get_clicks_rating(total_clicks)\n",
    "    net_rating=get_net_rating(review_rating,rating,clicks_rating)\n",
    "    \n",
    "    print(\"net rating is :\"+str(net_rating))\n",
    "    print(\"new date:\"+str(datetime.datetime.now()))\n",
    "    print(\"clicks rating\"+str(clicks_rating))\n",
    "    mycol.update({\"user_id\":user_id,\"activity.book_id\":book_id},{\"$set\":{\"activity.$.activity.clicks\":total_clicks,\"activity.$.activity.clicks_rating\":clicks_rating,\"activity.$.activity.net_rating\":net_rating,\"activity.$.activity.date_modified\":datetime.datetime.now()} },upsert=True)"
   ]
  },
  {
   "cell_type": "code",
   "execution_count": null,
   "metadata": {},
   "outputs": [],
   "source": []
  },
  {
   "cell_type": "code",
   "execution_count": null,
   "metadata": {},
   "outputs": [],
   "source": []
  },
  {
   "cell_type": "code",
   "execution_count": null,
   "metadata": {},
   "outputs": [],
   "source": []
  },
  {
   "cell_type": "code",
   "execution_count": null,
   "metadata": {},
   "outputs": [],
   "source": []
  },
  {
   "cell_type": "code",
   "execution_count": null,
   "metadata": {},
   "outputs": [],
   "source": []
  },
  {
   "cell_type": "code",
   "execution_count": null,
   "metadata": {},
   "outputs": [],
   "source": [
    "yeha samma matrai ho aayush\n",
    "dont go down"
   ]
  },
  {
   "cell_type": "code",
   "execution_count": null,
   "metadata": {},
   "outputs": [],
   "source": [
    "yeha samma matrai ho aayush\n",
    "dont go down"
   ]
  },
  {
   "cell_type": "code",
   "execution_count": null,
   "metadata": {},
   "outputs": [],
   "source": [
    "yeha samma matrai ho aayush\n",
    "dont go down"
   ]
  },
  {
   "cell_type": "code",
   "execution_count": null,
   "metadata": {},
   "outputs": [],
   "source": [
    "yeha samma matrai ho aayush\n",
    "dont go down"
   ]
  },
  {
   "cell_type": "code",
   "execution_count": null,
   "metadata": {},
   "outputs": [],
   "source": [
    "yeha samma matrai ho aayush\n",
    "dont go down"
   ]
  },
  {
   "cell_type": "code",
   "execution_count": null,
   "metadata": {},
   "outputs": [],
   "source": []
  },
  {
   "cell_type": "code",
   "execution_count": null,
   "metadata": {},
   "outputs": [],
   "source": []
  },
  {
   "cell_type": "code",
   "execution_count": null,
   "metadata": {},
   "outputs": [],
   "source": []
  },
  {
   "cell_type": "code",
   "execution_count": null,
   "metadata": {},
   "outputs": [],
   "source": []
  },
  {
   "cell_type": "code",
   "execution_count": null,
   "metadata": {},
   "outputs": [],
   "source": []
  },
  {
   "cell_type": "code",
   "execution_count": 63,
   "metadata": {},
   "outputs": [
    {
     "name": "stderr",
     "output_type": "stream",
     "text": [
      "/home/anil/venv/lib/python3.7/site-packages/ipykernel_launcher.py:1: DeprecationWarning: update is deprecated. Use replace_one, update_one or update_many instead.\n",
      "  \"\"\"Entry point for launching an IPython kernel.\n"
     ]
    },
    {
     "data": {
      "text/plain": [
       "{'n': 1, 'nModified': 1, 'ok': 1.0, 'updatedExisting': True}"
      ]
     },
     "execution_count": 63,
     "metadata": {},
     "output_type": "execute_result"
    }
   ],
   "source": [
    "mycol.update({\"user_id\":user_id,\"activity.book_id\":book_id},{\"$set\":{\"activity.$.activity.review\":new_review,\"activity.$.activity.review_rating\":review_rating,\"activity.$.activity.net_rating\":net_rating,\"activity.$.activity.date_modified\":datetime.datetime.now()} },upsert=True)"
   ]
  },
  {
   "cell_type": "code",
   "execution_count": 44,
   "metadata": {},
   "outputs": [],
   "source": [
    "try:\n",
    "    new_review=\"its_really_awesome\"\n",
    "except\n",
    "    new_review=\"\"\n",
    "review_rating=get_review_rating(new_review)\n",
    "net_rating=get_net_rating(review_rating,rating,clicks_rating)\n",
    "mycol.update({\"user_id\":user_id,\"activity.book_id\":book_id},{\"$set\":{\"activity.$.activity.review\":new_review,\"activity.$.activity.review_rating\":review_rating,\"activity.$.activity.net_rating\":net_rating,\"activity.$.activity.date_modified\":datetime.datetime.now()} },{\"upsert\":True})"
   ]
  },
  {
   "cell_type": "code",
   "execution_count": null,
   "metadata": {},
   "outputs": [],
   "source": [
    "try:\n",
    "    new_rating=4\n",
    "except:\n",
    "    new_rating=0\n",
    "mycol.update({\"user_id\":\"278858\",\"activity.book_id\":\"0195153448\"},{\"$set\":{\"activity.$.activity.review\":\"lovely\",\"activity.$.activity.date_modified\":datetime.datetime.now()} },{\"upsert\":True})"
   ]
  },
  {
   "cell_type": "code",
   "execution_count": null,
   "metadata": {},
   "outputs": [],
   "source": [
    "try:\n",
    "    new_clicks=4\n",
    "except:\n",
    "    new_clicks=4\n",
    "mycol.update({\"user_id\":\"278858\",\"activity.book_id\":\"0195153448\"},{\"$set\":{\"activity.$.activity.review\":\"lovely\",\"activity.$.activity.date_modified\":datetime.datetime.now()} },{\"upsert\":True})"
   ]
  },
  {
   "cell_type": "code",
   "execution_count": null,
   "metadata": {},
   "outputs": [],
   "source": []
  },
  {
   "cell_type": "code",
   "execution_count": null,
   "metadata": {},
   "outputs": [],
   "source": []
  },
  {
   "cell_type": "code",
   "execution_count": 25,
   "metadata": {},
   "outputs": [],
   "source": [
    "# rating update here\n",
    "\n",
    "x=mycol.find({\"user_id\":\"278858\",\"activity.book_id\":\"0195153448\"},{\"activity.$.activity\":1,\"_id\":0})\n",
    "data=x[0]['activity'][0]['activity']\n",
    "try:\n",
    "    rating=int(data['rating'])\n",
    "except:\n",
    "    rating=0\n",
    "try:\n",
    "    clicks_rating=int(data['clicks_rating'])\n",
    "except:\n",
    "    clicks_rating=0\n",
    "try:\n",
    "    review_rating=int(data['review_rating'])\n",
    "except:\n",
    "    review_rating=0\n"
   ]
  },
  {
   "cell_type": "code",
   "execution_count": 30,
   "metadata": {},
   "outputs": [
    {
     "name": "stdout",
     "output_type": "stream",
     "text": [
      "{'activity': [{'book_id': '0195153448', 'activity': {'review': 'lovely', 'review_rating': 3, 'rating': '4', 'clicks': 4, 'clicks_rating': 4.6875, 'net_rating': '5', 'date_modified': datetime.datetime(2019, 6, 12, 21, 29, 22, 760000)}}]}\n"
     ]
    }
   ],
   "source": [
    "print(x[0])\n",
    "data=x[0]['activity'][0]['activity']"
   ]
  },
  {
   "cell_type": "code",
   "execution_count": 32,
   "metadata": {},
   "outputs": [
    {
     "name": "stdout",
     "output_type": "stream",
     "text": [
      "lovely\n"
     ]
    }
   ],
   "source": [
    "print(data['review'])"
   ]
  },
  {
   "cell_type": "code",
   "execution_count": 42,
   "metadata": {},
   "outputs": [
    {
     "name": "stdout",
     "output_type": "stream",
     "text": [
      "3 4 4\n",
      "3.5\n"
     ]
    }
   ],
   "source": [
    "x=mycol.find({\"user_id\":\"278858\",\"activity.book_id\":\"0195153448\"},{\"activity.$.activity\":1,\"_id\":0})\n",
    "data=x[0]['activity'][0]['activity']\n",
    "try:\n",
    "    rating=int(data['rating'])\n",
    "except:\n",
    "    rating=0\n",
    "try:\n",
    "    clicks_rating=int(data['clicks_rating'])\n",
    "except:\n",
    "    clicks_rating=0\n",
    "try:\n",
    "    review_rating=int(data['review_rating'])\n",
    "except:\n",
    "    review_rating=0\n",
    "net_rating=get_net_rating(review_rating,rating,clicks_rating)"
   ]
  },
  {
   "cell_type": "code",
   "execution_count": null,
   "metadata": {},
   "outputs": [],
   "source": [
    "print(review_rating,rating,clicks_rating)\n",
    "print(get_net_rating(review_rating,rating,clicks_rating))"
   ]
  },
  {
   "cell_type": "code",
   "execution_count": 43,
   "metadata": {},
   "outputs": [
    {
     "name": "stdout",
     "output_type": "stream",
     "text": [
      "3.5\n"
     ]
    }
   ],
   "source": [
    "print(get_net_rating(3,4,4))"
   ]
  },
  {
   "cell_type": "code",
   "execution_count": null,
   "metadata": {},
   "outputs": [],
   "source": []
  },
  {
   "cell_type": "code",
   "execution_count": null,
   "metadata": {},
   "outputs": [],
   "source": []
  },
  {
   "cell_type": "code",
   "execution_count": null,
   "metadata": {},
   "outputs": [],
   "source": []
  },
  {
   "cell_type": "code",
   "execution_count": null,
   "metadata": {},
   "outputs": [],
   "source": []
  },
  {
   "cell_type": "code",
   "execution_count": 17,
   "metadata": {},
   "outputs": [],
   "source": [
    "import datetime"
   ]
  },
  {
   "cell_type": "code",
   "execution_count": 20,
   "metadata": {},
   "outputs": [
    {
     "name": "stdout",
     "output_type": "stream",
     "text": [
      "2019-06-12 21:28:57.449147\n"
     ]
    }
   ],
   "source": [
    "print(datetime.datetime.now())"
   ]
  },
  {
   "cell_type": "code",
   "execution_count": 21,
   "metadata": {},
   "outputs": [
    {
     "name": "stderr",
     "output_type": "stream",
     "text": [
      "/home/anil/venv/lib/python3.7/site-packages/ipykernel_launcher.py:2: DeprecationWarning: update is deprecated. Use replace_one, update_one or update_many instead.\n",
      "  \n"
     ]
    },
    {
     "data": {
      "text/plain": [
       "{'n': 1, 'nModified': 1, 'ok': 1.0, 'updatedExisting': True}"
      ]
     },
     "execution_count": 21,
     "metadata": {},
     "output_type": "execute_result"
    }
   ],
   "source": [
    "# rating update here\n",
    "mycol.update({\"user_id\":\"278858\",\"activity.book_id\":\"0195153448\"},{\"$set\":{\"activity.$.activity.review\":\"lovely\",\"activity.$.activity.date_modified\":datetime.datetime.now()} },{\"upsert\":True})"
   ]
  },
  {
   "cell_type": "code",
   "execution_count": null,
   "metadata": {},
   "outputs": [],
   "source": [
    "# rating update here\n",
    "\n",
    "mycol.update({user_id:\"278858\"})\n",
    "\n"
   ]
  },
  {
   "cell_type": "code",
   "execution_count": null,
   "metadata": {},
   "outputs": [],
   "source": [
    "\n",
    "//update info "
   ]
  },
  {
   "cell_type": "code",
   "execution_count": null,
   "metadata": {},
   "outputs": [],
   "source": [
    "\n",
    "\n",
    "\n",
    "\n",
    "average rating calculated at the time of update only\n",
    "average rating stored in the database field of the update\n"
   ]
  },
  {
   "cell_type": "code",
   "execution_count": null,
   "metadata": {},
   "outputs": [],
   "source": [
    "user_activity"
   ]
  },
  {
   "cell_type": "code",
   "execution_count": null,
   "metadata": {},
   "outputs": [],
   "source": []
  },
  {
   "cell_type": "code",
   "execution_count": null,
   "metadata": {},
   "outputs": [],
   "source": []
  },
  {
   "cell_type": "code",
   "execution_count": null,
   "metadata": {},
   "outputs": [],
   "source": [
    "# //review update here"
   ]
  },
  {
   "cell_type": "code",
   "execution_count": null,
   "metadata": {},
   "outputs": [],
   "source": [
    "# //clicks update here"
   ]
  },
  {
   "cell_type": "code",
   "execution_count": null,
   "metadata": {},
   "outputs": [],
   "source": []
  },
  {
   "cell_type": "code",
   "execution_count": null,
   "metadata": {},
   "outputs": [],
   "source": []
  },
  {
   "cell_type": "code",
   "execution_count": null,
   "metadata": {},
   "outputs": [],
   "source": [
    "if match_count>0:   \n",
    "    x=mycol.find({\"$and\" : [\"$or\":[\"activity.book_id\":{\"$in\":query_book_list}]]},{\"user_id\":user_id}]})\n",
    "    print(x.count())\n",
    "    for i in range (match_count):\n",
    "        print('this is i loop'+str(i))\n",
    "        \n",
    "        #         this find out the index of the book in input\n",
    "        for j in range (len(query_book_list)):\n",
    "            if query_book_list[j]==x[i]['book_id']:\n",
    "                list_index=j\n",
    "                query_book_list[j]='0'\n",
    "                print(\"this is j loop\"+j)\n",
    "                break\n",
    "                \n",
    "# this prepare input for next update query        \n",
    "        book_id=x[i]['book_id']\n",
    "        if(update_input[j]['review']==\"\"):\n",
    "            review=x[i]['review']\n",
    "            review_rating=x[i]['review_rating']\n",
    "        else:\n",
    "            review=update_input[j]['review']\n",
    "            review_rating=get_review_rating(review)\n",
    "           \n",
    "        if(update_input[j]['rating']==\"\"):\n",
    "            rating=x[i]['rating']\n",
    "        else:\n",
    "            rating=update_input[j]['rating']\n",
    "           \n",
    "        if(update_input[j]['clicks']==\"\"):\n",
    "            clicks=int(x[i]['clicks'])\n",
    "            clicks_rating=int(x[i]['click_rating'])\n",
    "        else:\n",
    "            clicks=int(update_input[i]['clicks'])+int(x[i]['clicks'])\n",
    "            clicks_rating=get_clicks_rating(clicks)\n",
    "           \n",
    "        net_rating=get_net_rating(review_rating,rating,clicks_rating)\n",
    "#         query for update of document is here\n",
    "        query={\"user_id\":user_id,\"user_id.book_id\":\"book_id\"}\n",
    "        set_values={\"activity.review\":review,\"activity.review_rating\":review_rating,\"activity.rating\":rating,\"activity.clicks\":clicks,\"activity.clicks_rating\":clicks_rating,\n",
    "                   \"activity.net_rating\":net_rating}\n",
    "    \n",
    "        mycol.update_one(query,{\"$set\":set_values})        "
   ]
  },
  {
   "cell_type": "code",
   "execution_count": null,
   "metadata": {},
   "outputs": [],
   "source": []
  },
  {
   "cell_type": "code",
   "execution_count": null,
   "metadata": {},
   "outputs": [],
   "source": []
  },
  {
   "cell_type": "code",
   "execution_count": null,
   "metadata": {},
   "outputs": [],
   "source": []
  },
  {
   "cell_type": "code",
   "execution_count": null,
   "metadata": {},
   "outputs": [],
   "source": []
  },
  {
   "cell_type": "code",
   "execution_count": null,
   "metadata": {},
   "outputs": [],
   "source": []
  }
 ],
 "metadata": {
  "kernelspec": {
   "display_name": "Python 3",
   "language": "python",
   "name": "python3"
  },
  "language_info": {
   "codemirror_mode": {
    "name": "ipython",
    "version": 3
   },
   "file_extension": ".py",
   "mimetype": "text/x-python",
   "name": "python",
   "nbconvert_exporter": "python",
   "pygments_lexer": "ipython3",
   "version": "3.7.3"
  }
 },
 "nbformat": 4,
 "nbformat_minor": 2
}
